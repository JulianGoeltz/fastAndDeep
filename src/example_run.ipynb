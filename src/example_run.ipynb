{
 "cells": [
  {
   "cell_type": "code",
   "execution_count": 1,
   "id": "47b3727e",
   "metadata": {},
   "outputs": [
    {
     "name": "stdout",
     "output_type": "stream",
     "text": [
      "### inference on pretrained YY\n",
      "Using CPU, Meh!\n",
      "^^^^^^^^^^^^^^^^^^^^^^^^^^^^^^^ adapt synaptic strength\n",
      "Using CPU, Meh!\n",
      "\n",
      "After inference, the accuracy is 93.70%.\n",
      "### inference on pretrained mnist\n",
      "load preprocessed data\n",
      "load preprocessed data\n",
      "load preprocessed data\n",
      "Using CPU, Meh!\n",
      "^^^^^^^^^^^^^^^^^^^^^^^^^^^^^^^ adapt synaptic strength\n",
      "Using CPU, Meh!\n",
      "inference ongoing, at 9 of 10 batches\n",
      "After inference, the accuracy is 95.85%.\n"
     ]
    }
   ],
   "source": [
    "# prepare environment for quiggledy\n",
    "import os\n",
    "os.environ['QUIGGELDY_USER_NO_MUNGE'] = os.environ['JUPYTERHUB_USER']\n",
    "os.environ['QUIGGELDY_ENABLED'] = '1'\n",
    "os.environ['QUIGGELDY_IP'] = '10.0.2.2'  # because on VM, otherwise 10.2.17.58\n",
    "os.environ['QUIGGELDY_PORT'] = '10460'\n",
    "os.environ['SLURM_HARDWARE_LICENSES'] = 'chip55_port10360_capocaccia'  # hard coded chip setup, used internally\n",
    "\n",
    "print(\"### inference on pretrained YY\")\n",
    "%run experiment.py inference ../experiment_pretrained/yin_yang_hx_chip55/epoch_300\n",
    "\n",
    "print(\"### inference on pretrained mnist\")\n",
    "%run experiment.py inference ../experiment_pretrained/16x16_mnist_hx_chip55/epoch_100"
   ]
  }
 ],
 "metadata": {
  "kernelspec": {
   "display_name": "Python 3 (BSS-2)",
   "language": "python",
   "name": "python3"
  },
  "language_info": {
   "codemirror_mode": {
    "name": "ipython",
    "version": 3
   },
   "file_extension": ".py",
   "mimetype": "text/x-python",
   "name": "python",
   "nbconvert_exporter": "python",
   "pygments_lexer": "ipython3",
   "version": "3.8.2"
  }
 },
 "nbformat": 4,
 "nbformat_minor": 5
}
